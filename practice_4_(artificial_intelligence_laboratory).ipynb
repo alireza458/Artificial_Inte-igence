{
 "cells": [
  {
   "cell_type": "code",
   "execution_count": 1,
   "id": "95977451-5fed-4cb2-a498-2ffed90beb0b",
   "metadata": {},
   "outputs": [
    {
     "ename": "SyntaxError",
     "evalue": "invalid syntax (4007027762.py, line 5)",
     "output_type": "error",
     "traceback": [
      "\u001b[1;36m  Cell \u001b[1;32mIn[1], line 5\u001b[1;36m\u001b[0m\n\u001b[1;33m    X_train , X_test,y_train,y_test =\u001b[0m\n\u001b[1;37m                                      ^\u001b[0m\n\u001b[1;31mSyntaxError\u001b[0m\u001b[1;31m:\u001b[0m invalid syntax\n"
     ]
    }
   ],
   "source": [
    "\n",
    " from sklearn.neighbors import KNeighborsClassifier\n",
    " from sklearn.model_selection import train_test_split\n",
    " from sklearn.metrics import accuracy_score\n",
    "\n",
    " X_train , X_test,y_train,y_test = \n",
    " train_test_split(X,y,test_size=0.2,random_state=42)\n",
    " knn = KNeighborsClassifier(n_neighbors=3)\n",
    " knn.fit(X_train,y_train)\n",
    " y_pred = knn.predict(X_test)\n",
    "\n",
    " accuracy = accuracy_score(y_test,y_pred)\n",
    " print(\"acu:\",accuracy)"
   ]
  },
  {
   "cell_type": "code",
   "execution_count": null,
   "id": "8d85a4b7-f0fc-41b7-a95c-125367ce2820",
   "metadata": {},
   "outputs": [],
   "source": []
  }
 ],
 "metadata": {
  "kernelspec": {
   "display_name": "Python 3 (ipykernel)",
   "language": "python",
   "name": "python3"
  },
  "language_info": {
   "codemirror_mode": {
    "name": "ipython",
    "version": 3
   },
   "file_extension": ".py",
   "mimetype": "text/x-python",
   "name": "python",
   "nbconvert_exporter": "python",
   "pygments_lexer": "ipython3",
   "version": "3.11.4"
  }
 },
 "nbformat": 4,
 "nbformat_minor": 5
}
